{
  "cells": [
    {
      "metadata": {
        "_uuid": "ffc0226e6b667b289b019c7b61980e12bd522bba",
        "trusted": true,
        "collapsed": true
      },
      "cell_type": "code",
      "source": "import pandas as pd\nimport re\nimport os\nprint(os.listdir(\"../input\"))\nimport nltk\nfrom nltk.corpus import stopwords\nfrom keras.preprocessing.sequence import pad_sequences\nfrom keras.layers import Embedding, LSTM, Dense\nfrom keras.preprocessing.text import Tokenizer, text_to_word_sequence",
      "execution_count": null,
      "outputs": []
    },
    {
      "metadata": {
        "_uuid": "91c2133df9a5b666ae5571c16bef405b4acd3c7a",
        "trusted": true,
        "collapsed": true
      },
      "cell_type": "code",
      "source": "def cleanhtml(raw_html):\n    cleanr = re.compile('<.*?>')\n    return re.sub(cleanr, '', raw_html)",
      "execution_count": null,
      "outputs": []
    },
    {
      "metadata": {
        "_uuid": "45c49f942fdd7974e8a802946d00759987ca2118",
        "trusted": true,
        "collapsed": true
      },
      "cell_type": "code",
      "source": "def removeCharacters(text):\n    bannedChars = [\"\\n\",\"\\r\",\"\\t\",\"!\",\"?\"]\n    for char in bannedChars:\n        while char in text:\n            text = text.replace(char, \" \")\n    return text",
      "execution_count": null,
      "outputs": []
    },
    {
      "metadata": {
        "_uuid": "8c326e86bdc4fe6106e8e8d372d5c315c00c5967",
        "trusted": true,
        "collapsed": true
      },
      "cell_type": "code",
      "source": "q = pd.read_csv('../input/Questions.csv', encoding='ISO-8859-1')\n#Get only relevant columns\nq = q[[\"Id\", \"Score\", \"Title\", \"Body\"]]\n#Remove html tags\nq['Body'] = q['Body'].apply(cleanhtml)\n#Join Title and body\nq[\"Title\"] = q[\"Title\"].map(str) + \" \" + q[\"Body\"]\n#Delete redundant body\nq = q[[\"Id\", \"Score\", \"Title\"]]",
      "execution_count": null,
      "outputs": []
    },
    {
      "metadata": {
        "_uuid": "884bf594d82747d2d638a3d858ddac58058fa9f7",
        "trusted": true,
        "collapsed": true
      },
      "cell_type": "code",
      "source": "#Rename Title\nq = q.rename(index=str, columns={\"Title\": \"Question\"})\n#Set index to id\nq = q.set_index('Id')\nq.head()",
      "execution_count": null,
      "outputs": []
    },
    {
      "metadata": {
        "_uuid": "454b461c2d8dbf422d41ef1ce43b3ce0eb7cceb1",
        "trusted": true,
        "collapsed": true
      },
      "cell_type": "code",
      "source": "#Remove bad questions\nq = q[q[\"Score\"] > -1]\n#Remove invalid characters\nq[\"Question\"] = q[\"Question\"].apply(removeCharacters)\nq.head()",
      "execution_count": null,
      "outputs": []
    },
    {
      "metadata": {
        "_uuid": "be40a5632308617a2a16def0702ac6d669033ad5"
      },
      "cell_type": "markdown",
      "source": "# Answers"
    },
    {
      "metadata": {
        "_uuid": "5e13ebd37982ec4c2f35b51ece0d1db6da8587f4",
        "trusted": true,
        "collapsed": true
      },
      "cell_type": "code",
      "source": "a = pd.read_csv('../input/Answers.csv', encoding='ISO-8859-1')\n#Keep only relevant columns\na = a[[\"ParentId\",\"Score\",\"Body\"]]",
      "execution_count": null,
      "outputs": []
    },
    {
      "metadata": {
        "trusted": true,
        "_uuid": "e9c175a4f5e3b8b156407022648d669297106136",
        "collapsed": true
      },
      "cell_type": "code",
      "source": "#remove html\na['Body'] = a['Body'].apply(cleanhtml)\n#remove invalid characters\na['Body'] = a['Body'].apply(removeCharacters)\na.head()",
      "execution_count": null,
      "outputs": []
    },
    {
      "metadata": {
        "_uuid": "a090ae27da2401647e9352e49342c3c55b44f4a2",
        "trusted": true,
        "collapsed": true
      },
      "cell_type": "code",
      "source": "def getFunctions(text):\n    words = text.split(\" \")\n    functions = \"\"\n    for word in words:\n        if \"(\" in word and \")\" in word:\n            functions += word +\",\"\n    return functions[0:len(functions)-2]",
      "execution_count": null,
      "outputs": []
    },
    {
      "metadata": {
        "_uuid": "fac07e3f0fc0f90779d7f900c0a5e8d5214b925d",
        "trusted": true,
        "collapsed": true
      },
      "cell_type": "code",
      "source": "def getURLs(text):\n    urls = re.findall(\"(?P<url>https?://[^\\s]+)\", text)\n    urlText = \"\"\n    for url in urls:\n        while True:\n            if not url[len(url)-1].isdigit() and not url[len(url)-1].isalpha():\n                url = url[0:len(url)-2]\n            else:\n                break\n        urlText += url+\",\"\n    return urlText[0:len(urlText)-2]",
      "execution_count": null,
      "outputs": []
    },
    {
      "metadata": {
        "_uuid": "6d26b3a34085200e4ed5eb38cfe7f51e0f064d80",
        "trusted": true,
        "collapsed": true
      },
      "cell_type": "code",
      "source": "a['URL'] = a['Body'].apply(getURLs)\na['Function'] = a['Body'].apply(getFunctions)\na.head()",
      "execution_count": null,
      "outputs": []
    },
    {
      "metadata": {
        "_uuid": "8e49834c0a9f0972ee9db1d9f48adc9d3894c465"
      },
      "cell_type": "markdown",
      "source": "# Delete bad answers, delete answers without questions and visa versa"
    },
    {
      "metadata": {
        "_uuid": "86ed1963cb58d7e0747e208a242ff72cca8b2f22",
        "trusted": true,
        "collapsed": true
      },
      "cell_type": "code",
      "source": "a = a[a[\"Score\"] > -1]\n\n#check all questions have an answer\nq = q[q.index.isin(a[\"ParentId\"])]\nq.head()",
      "execution_count": null,
      "outputs": []
    },
    {
      "metadata": {
        "trusted": true,
        "_uuid": "1728fdbc4a34e5d585246ad259eee4782d5baede",
        "collapsed": true
      },
      "cell_type": "code",
      "source": "#check answer has a question\na = a[a[\"ParentId\"].isin(q.index)]\na.head()",
      "execution_count": null,
      "outputs": []
    },
    {
      "metadata": {
        "trusted": true,
        "collapsed": true,
        "_uuid": "91a769e7aaf015653954f0b67d8beec30afd7706"
      },
      "cell_type": "code",
      "source": "def toLower(text):\n    return text.lower()",
      "execution_count": null,
      "outputs": []
    },
    {
      "metadata": {
        "trusted": true,
        "collapsed": true,
        "_uuid": "296461ccf5a8d55589fef7709e970347b26dae01"
      },
      "cell_type": "code",
      "source": "q[\"Question\"] = q[\"Question\"].apply(toLower)\na[\"Body\"] = a[\"Body\"].apply(toLower)",
      "execution_count": null,
      "outputs": []
    },
    {
      "metadata": {
        "trusted": true,
        "_uuid": "917c84428946b9f6be335e895dc4c9c669ba9ee7",
        "collapsed": true
      },
      "cell_type": "code",
      "source": "stop_words = set(stopwords.words('english'))\ndef removeStopWords(text):\n    words = text.split(\" \")\n    txt = \"\"\n    for word in words:\n        if word not in stop_words:\n            txt += word + \" \"\n    return txt",
      "execution_count": null,
      "outputs": []
    },
    {
      "metadata": {
        "trusted": true,
        "_uuid": "e3ef2a77001829e95c5d1aa3ca29ce7db46b581a",
        "collapsed": true
      },
      "cell_type": "code",
      "source": "q[\"Question\"] = q[\"Question\"].apply(removeStopWords)\nq.head()",
      "execution_count": null,
      "outputs": []
    },
    {
      "metadata": {
        "trusted": true,
        "_uuid": "e15983726c4993615403c18137a7bffaa9edd2f0",
        "collapsed": true
      },
      "cell_type": "code",
      "source": "a[\"Body\"] = a[\"Body\"].apply(removeStopWords)\na.head()",
      "execution_count": null,
      "outputs": []
    },
    {
      "metadata": {
        "trusted": true,
        "collapsed": true,
        "_uuid": "22977aa3f344382f2c953c252f0c54513ee63c7c"
      },
      "cell_type": "code",
      "source": "tokenizer = Tokenizer()\nanswers = []\nquestions = []",
      "execution_count": null,
      "outputs": []
    },
    {
      "metadata": {
        "trusted": true,
        "collapsed": true,
        "_uuid": "bc373335fa08292c461aa9852b3ac4e452fb54c9"
      },
      "cell_type": "code",
      "source": "tokenizer.fit_on_texts(q[\"Question\"].values)\nX = tokenizer.texts_to_sequences(q[\"Question\"].values)",
      "execution_count": null,
      "outputs": []
    },
    {
      "metadata": {
        "trusted": true,
        "collapsed": true,
        "_uuid": "bc650664877b5a41c0aaa44ecf2dcc7f5113d350"
      },
      "cell_type": "code",
      "source": "X = pad_sequences(X, maxlen=1000)",
      "execution_count": null,
      "outputs": []
    },
    {
      "metadata": {
        "trusted": true,
        "collapsed": true,
        "_uuid": "f8ba94ddcdbf92398be210d7d6d31f964e631f51"
      },
      "cell_type": "code",
      "source": "",
      "execution_count": null,
      "outputs": []
    }
  ],
  "metadata": {
    "kernelspec": {
      "display_name": "Python 3",
      "language": "python",
      "name": "python3"
    },
    "language_info": {
      "name": "python",
      "version": "3.6.4",
      "mimetype": "text/x-python",
      "codemirror_mode": {
        "name": "ipython",
        "version": 3
      },
      "pygments_lexer": "ipython3",
      "nbconvert_exporter": "python",
      "file_extension": ".py"
    }
  },
  "nbformat": 4,
  "nbformat_minor": 1
}