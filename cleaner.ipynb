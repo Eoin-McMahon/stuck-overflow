{
 "cells": [
  {
   "cell_type": "code",
   "execution_count": 1,
   "metadata": {
    "_uuid": "ffc0226e6b667b289b019c7b61980e12bd522bba"
   },
   "outputs": [],
   "source": [
    "import pandas as pd\n",
    "import re"
   ]
  },
  {
   "cell_type": "code",
   "execution_count": 2,
   "metadata": {
    "_uuid": "91c2133df9a5b666ae5571c16bef405b4acd3c7a"
   },
   "outputs": [],
   "source": [
    "def cleanhtml(raw_html):\n",
    "    cleanr = re.compile('<.*?>')\n",
    "    return re.sub(cleanr, '', raw_html)"
   ]
  },
  {
   "cell_type": "code",
   "execution_count": 3,
   "metadata": {
    "_uuid": "45c49f942fdd7974e8a802946d00759987ca2118"
   },
   "outputs": [],
   "source": [
    "def removeCharacters(text):\n",
    "    while \"\\n\" in text:\n",
    "        text = text.replace(\"\\n\", \" \")\n",
    "    while \"\\r\" in text:\n",
    "        text = text.replace(\"\\r\", \" \")\n",
    "    while \"\\t\" in text:\n",
    "        text = text.replace(\"\\t\", \" \")\n",
    "    while \"!\" in text:\n",
    "        text = text.replace(\"\\t\", \" \")\n",
    "    while \"?\" in text:\n",
    "        text = text.replace(\"\\t\", \" \")\n",
    "    return text"
   ]
  },
  {
   "cell_type": "code",
   "execution_count": 4,
   "metadata": {
    "_uuid": "8c326e86bdc4fe6106e8e8d372d5c315c00c5967"
   },
   "outputs": [],
   "source": [
    "q = pd.read_csv('Questions.csv', encoding='ISO-8859-1')\n",
    "#Get only relevant columns\n",
    "q = q[[\"Id\", \"Score\", \"Title\", \"Body\"]]\n",
    "#Remove html tags\n",
    "q['Body'] = q['Body'].apply(cleanhtml)\n",
    "#Join Title and body\n",
    "q[\"Title\"] = q[\"Title\"].map(str) + \" \" + q[\"Body\"]\n",
    "#Delete redundant body\n",
    "q = q[[\"Id\", \"Score\", \"Title\"]]"
   ]
  },
  {
   "cell_type": "code",
   "execution_count": 5,
   "metadata": {
    "_uuid": "884bf594d82747d2d638a3d858ddac58058fa9f7"
   },
   "outputs": [
    {
     "data": {
      "text/html": [
       "<div>\n",
       "<style scoped>\n",
       "    .dataframe tbody tr th:only-of-type {\n",
       "        vertical-align: middle;\n",
       "    }\n",
       "\n",
       "    .dataframe tbody tr th {\n",
       "        vertical-align: top;\n",
       "    }\n",
       "\n",
       "    .dataframe thead th {\n",
       "        text-align: right;\n",
       "    }\n",
       "</style>\n",
       "<table border=\"1\" class=\"dataframe\">\n",
       "  <thead>\n",
       "    <tr style=\"text-align: right;\">\n",
       "      <th></th>\n",
       "      <th>Score</th>\n",
       "      <th>Question</th>\n",
       "    </tr>\n",
       "    <tr>\n",
       "      <th>Id</th>\n",
       "      <th></th>\n",
       "      <th></th>\n",
       "    </tr>\n",
       "  </thead>\n",
       "  <tbody>\n",
       "    <tr>\n",
       "      <th>80</th>\n",
       "      <td>26</td>\n",
       "      <td>SQLStatement.execute() - multiple queries in o...</td>\n",
       "    </tr>\n",
       "    <tr>\n",
       "      <th>90</th>\n",
       "      <td>144</td>\n",
       "      <td>Good branching and merging tutorials for Torto...</td>\n",
       "    </tr>\n",
       "    <tr>\n",
       "      <th>120</th>\n",
       "      <td>21</td>\n",
       "      <td>ASP.NET Site Maps Has anyone got experience cr...</td>\n",
       "    </tr>\n",
       "    <tr>\n",
       "      <th>180</th>\n",
       "      <td>53</td>\n",
       "      <td>Function for creating color wheels This is som...</td>\n",
       "    </tr>\n",
       "    <tr>\n",
       "      <th>260</th>\n",
       "      <td>49</td>\n",
       "      <td>Adding scripting functionality to .NET applica...</td>\n",
       "    </tr>\n",
       "  </tbody>\n",
       "</table>\n",
       "</div>"
      ],
      "text/plain": [
       "     Score                                           Question\n",
       "Id                                                           \n",
       "80      26  SQLStatement.execute() - multiple queries in o...\n",
       "90     144  Good branching and merging tutorials for Torto...\n",
       "120     21  ASP.NET Site Maps Has anyone got experience cr...\n",
       "180     53  Function for creating color wheels This is som...\n",
       "260     49  Adding scripting functionality to .NET applica..."
      ]
     },
     "execution_count": 5,
     "metadata": {},
     "output_type": "execute_result"
    }
   ],
   "source": [
    "#Rename Title\n",
    "q = q.rename(index=str, columns={\"Title\": \"Question\"})\n",
    "#Set index to id\n",
    "q = q.set_index('Id')\n",
    "q.head()"
   ]
  },
  {
   "cell_type": "code",
   "execution_count": 6,
   "metadata": {
    "_uuid": "454b461c2d8dbf422d41ef1ce43b3ce0eb7cceb1"
   },
   "outputs": [
    {
     "data": {
      "text/html": [
       "<div>\n",
       "<style scoped>\n",
       "    .dataframe tbody tr th:only-of-type {\n",
       "        vertical-align: middle;\n",
       "    }\n",
       "\n",
       "    .dataframe tbody tr th {\n",
       "        vertical-align: top;\n",
       "    }\n",
       "\n",
       "    .dataframe thead th {\n",
       "        text-align: right;\n",
       "    }\n",
       "</style>\n",
       "<table border=\"1\" class=\"dataframe\">\n",
       "  <thead>\n",
       "    <tr style=\"text-align: right;\">\n",
       "      <th></th>\n",
       "      <th>Score</th>\n",
       "      <th>Question</th>\n",
       "    </tr>\n",
       "    <tr>\n",
       "      <th>Id</th>\n",
       "      <th></th>\n",
       "      <th></th>\n",
       "    </tr>\n",
       "  </thead>\n",
       "  <tbody>\n",
       "    <tr>\n",
       "      <th>80</th>\n",
       "      <td>26</td>\n",
       "      <td>SQLStatement.execute() - multiple queries in o...</td>\n",
       "    </tr>\n",
       "    <tr>\n",
       "      <th>90</th>\n",
       "      <td>144</td>\n",
       "      <td>Good branching and merging tutorials for Torto...</td>\n",
       "    </tr>\n",
       "    <tr>\n",
       "      <th>120</th>\n",
       "      <td>21</td>\n",
       "      <td>ASP.NET Site Maps Has anyone got experience cr...</td>\n",
       "    </tr>\n",
       "    <tr>\n",
       "      <th>180</th>\n",
       "      <td>53</td>\n",
       "      <td>Function for creating color wheels This is som...</td>\n",
       "    </tr>\n",
       "    <tr>\n",
       "      <th>260</th>\n",
       "      <td>49</td>\n",
       "      <td>Adding scripting functionality to .NET applica...</td>\n",
       "    </tr>\n",
       "  </tbody>\n",
       "</table>\n",
       "</div>"
      ],
      "text/plain": [
       "     Score                                           Question\n",
       "Id                                                           \n",
       "80      26  SQLStatement.execute() - multiple queries in o...\n",
       "90     144  Good branching and merging tutorials for Torto...\n",
       "120     21  ASP.NET Site Maps Has anyone got experience cr...\n",
       "180     53  Function for creating color wheels This is som...\n",
       "260     49  Adding scripting functionality to .NET applica..."
      ]
     },
     "execution_count": 6,
     "metadata": {},
     "output_type": "execute_result"
    }
   ],
   "source": [
    "#Remove bad questions\n",
    "q = q[q[\"Score\"] > -1]\n",
    "#Remove invalid characters\n",
    "q[\"Question\"] = q[\"Question\"].apply(removeCharacters)\n",
    "q.head()"
   ]
  },
  {
   "cell_type": "markdown",
   "metadata": {
    "_uuid": "be40a5632308617a2a16def0702ac6d669033ad5"
   },
   "source": [
    "# Answers"
   ]
  },
  {
   "cell_type": "code",
   "execution_count": 7,
   "metadata": {
    "_uuid": "5e13ebd37982ec4c2f35b51ece0d1db6da8587f4"
   },
   "outputs": [
    {
     "data": {
      "text/html": [
       "<div>\n",
       "<style scoped>\n",
       "    .dataframe tbody tr th:only-of-type {\n",
       "        vertical-align: middle;\n",
       "    }\n",
       "\n",
       "    .dataframe tbody tr th {\n",
       "        vertical-align: top;\n",
       "    }\n",
       "\n",
       "    .dataframe thead th {\n",
       "        text-align: right;\n",
       "    }\n",
       "</style>\n",
       "<table border=\"1\" class=\"dataframe\">\n",
       "  <thead>\n",
       "    <tr style=\"text-align: right;\">\n",
       "      <th></th>\n",
       "      <th>ParentId</th>\n",
       "      <th>Score</th>\n",
       "      <th>Body</th>\n",
       "    </tr>\n",
       "  </thead>\n",
       "  <tbody>\n",
       "    <tr>\n",
       "      <th>0</th>\n",
       "      <td>90</td>\n",
       "      <td>13</td>\n",
       "      <td>Version Control with Subversion    A very good...</td>\n",
       "    </tr>\n",
       "    <tr>\n",
       "      <th>1</th>\n",
       "      <td>80</td>\n",
       "      <td>12</td>\n",
       "      <td>I wound up using this. It is a kind of a hack,...</td>\n",
       "    </tr>\n",
       "    <tr>\n",
       "      <th>2</th>\n",
       "      <td>180</td>\n",
       "      <td>1</td>\n",
       "      <td>I've read somewhere the human eye can't distin...</td>\n",
       "    </tr>\n",
       "    <tr>\n",
       "      <th>3</th>\n",
       "      <td>260</td>\n",
       "      <td>4</td>\n",
       "      <td>Yes, I thought about that, but I soon figured ...</td>\n",
       "    </tr>\n",
       "    <tr>\n",
       "      <th>4</th>\n",
       "      <td>260</td>\n",
       "      <td>28</td>\n",
       "      <td>Oleg Shilo's C# Script solution (at The Code P...</td>\n",
       "    </tr>\n",
       "  </tbody>\n",
       "</table>\n",
       "</div>"
      ],
      "text/plain": [
       "   ParentId  Score                                               Body\n",
       "0        90     13  Version Control with Subversion    A very good...\n",
       "1        80     12  I wound up using this. It is a kind of a hack,...\n",
       "2       180      1  I've read somewhere the human eye can't distin...\n",
       "3       260      4  Yes, I thought about that, but I soon figured ...\n",
       "4       260     28  Oleg Shilo's C# Script solution (at The Code P..."
      ]
     },
     "execution_count": 7,
     "metadata": {},
     "output_type": "execute_result"
    }
   ],
   "source": [
    "a = pd.read_csv('Answers.csv', encoding='ISO-8859-1')\n",
    "#Keep only relevant columns\n",
    "a = a[[\"ParentId\",\"Score\",\"Body\"]]\n",
    "#remove html\n",
    "a['Body'] = a['Body'].apply(cleanhtml)\n",
    "#remove invalid characters\n",
    "a['Body'] = a['Body'].apply(removeCharacters)\n",
    "a.head()"
   ]
  },
  {
   "cell_type": "code",
   "execution_count": 8,
   "metadata": {
    "_uuid": "a090ae27da2401647e9352e49342c3c55b44f4a2"
   },
   "outputs": [],
   "source": [
    "def getFunctions(text):\n",
    "    words = text.split(\" \")\n",
    "    functions = \"\"\n",
    "    for word in words:\n",
    "        if \"(\" in word and \")\" in word:\n",
    "            functions += word +\",\"\n",
    "    return functions[0:]"
   ]
  },
  {
   "cell_type": "code",
   "execution_count": 23,
   "metadata": {
    "_uuid": "fac07e3f0fc0f90779d7f900c0a5e8d5214b925d"
   },
   "outputs": [],
   "source": [
    "def getURLs(text):\n",
    "    urls = re.findall(\"(?P<url>https?://[^\\s]+)\", text)\n",
    "    urlText = \"\"\n",
    "    for url in urls:\n",
    "        while True:\n",
    "            if not url[len(url)-1].isdigit() and not url[len(url)-1].isalpha():\n",
    "                url = url[0:len(url)-2]\n",
    "            else:\n",
    "                break\n",
    "        urlText += url+\",\"\n",
    "    return urlText[0:len(urlText)-1]"
   ]
  },
  {
   "cell_type": "code",
   "execution_count": 24,
   "metadata": {
    "_uuid": "6d26b3a34085200e4ed5eb38cfe7f51e0f064d80"
   },
   "outputs": [],
   "source": [
    "a['URL'] = a['Body'].apply(getURLs)\n",
    "a['Function'] = a['Body'].apply(getFunctions)\n",
    "a.head()"
   ]
  },
  {
   "cell_type": "markdown",
   "metadata": {},
   "source": [
    "# Delete bad answers, delete answers without questions and visa versa"
   ]
  },
  {
   "cell_type": "markdown",
   "metadata": {},
   "source": [
    "# a.to_csv('cleaned_answers.csv')\n",
    "q.to_csv('cleaned_answers.csv')"
   ]
  }
 ],
 "metadata": {
  "kernelspec": {
   "display_name": "Python 3",
   "language": "python",
   "name": "python3"
  },
  "language_info": {
   "codemirror_mode": {
    "name": "ipython",
    "version": 3
   },
   "file_extension": ".py",
   "mimetype": "text/x-python",
   "name": "python",
   "nbconvert_exporter": "python",
   "pygments_lexer": "ipython3",
   "version": "3.6.6"
  }
 },
 "nbformat": 4,
 "nbformat_minor": 1
}
